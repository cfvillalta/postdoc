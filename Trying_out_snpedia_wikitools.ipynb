{
 "metadata": {
  "name": "",
  "signature": "sha256:29f306e22b64e8bbbf684d3b440be20a3d0bf84859e2217b855bf280a2ecafb1"
 },
 "nbformat": 3,
 "nbformat_minor": 0,
 "worksheets": [
  {
   "cells": [
    {
     "cell_type": "code",
     "collapsed": false,
     "input": [
      "#%run '~/genome.txt'"
     ],
     "language": "python",
     "metadata": {},
     "outputs": [],
     "prompt_number": 29
    },
    {
     "cell_type": "code",
     "collapsed": false,
     "input": [
      "import sys\n",
      "from wikitools import *"
     ],
     "language": "python",
     "metadata": {},
     "outputs": [],
     "prompt_number": 30
    },
    {
     "cell_type": "code",
     "collapsed": false,
     "input": [
      "#import data from 23andme SNP file.\n",
      "\n",
      "snp_in = open('/Users/cfvillalta/genome.txt','r')\n",
      "snp_data = snp_in.readlines()\n",
      "\n",
      "snp_dict = {}\n",
      "\n",
      "for snp in snp_data:\n",
      "    if snp.startswith('rsid'):\n",
      "        header=snp.strip()\n",
      "    elif snp.startswith('rs'):\n",
      "        snp=snp.strip()\n",
      "        snp_s = snp.split('\\t')\n",
      "        snp_dict[snp_s[0]]=snp_s\n",
      "        \n",
      "#print snp_dict\n",
      "        \n",
      "        \n",
      "        \n"
     ],
     "language": "python",
     "metadata": {},
     "outputs": [],
     "prompt_number": 31
    },
    {
     "cell_type": "code",
     "collapsed": false,
     "input": [
      "snps_no_snpedia = []\n",
      "snp_interest = {}\n",
      "for snp in snp_dict:\n",
      "\n",
      "    site = wiki.Wiki(\"http://bots.snpedia.com/api.php\")\n",
      "#print snp\n",
      "#print site\n",
      "\n",
      "    \n",
      "    pagehandle = page.Page(site,snp)\n",
      "    try:\n",
      "        snp_page = pagehandle.getWikiText()\n",
      "        snp_interest[snp] = snp_page\n",
      "    except:\n",
      "        snps_no_snpedia.append(snp)\n",
      "        \n",
      "    \n",
      "print snps_no_snpedia\n",
      "\n",
      "        "
     ],
     "language": "python",
     "metadata": {},
     "outputs": [
      {
       "output_type": "stream",
       "stream": "stdout",
       "text": [
        "rs142946364\n",
        "rs2341362"
       ]
      },
      {
       "output_type": "stream",
       "stream": "stdout",
       "text": [
        "\n",
        "rs2488991"
       ]
      },
      {
       "output_type": "stream",
       "stream": "stdout",
       "text": [
        "\n",
        "rs55678698"
       ]
      },
      {
       "output_type": "stream",
       "stream": "stdout",
       "text": [
        "\n",
        "rs2341365"
       ]
      },
      {
       "output_type": "stream",
       "stream": "stdout",
       "text": [
        "\n",
        "rs7538305"
       ]
      },
      {
       "output_type": "stream",
       "stream": "stdout",
       "text": [
        "\n",
        "rs9442400"
       ]
      },
      {
       "output_type": "stream",
       "stream": "stdout",
       "text": [
        "\n",
        "rs2298217"
       ]
      },
      {
       "output_type": "stream",
       "stream": "stdout",
       "text": [
        "\n",
        "rs77334480"
       ]
      },
      {
       "output_type": "stream",
       "stream": "stdout",
       "text": [
        "\n",
        "rs12124819"
       ]
      },
      {
       "output_type": "stream",
       "stream": "stdout",
       "text": [
        "\n",
        "rs12731175"
       ]
      },
      {
       "output_type": "stream",
       "stream": "stdout",
       "text": [
        "\n",
        "rs9651273"
       ]
      },
      {
       "output_type": "stream",
       "stream": "stdout",
       "text": [
        "\n",
        "rs67274836"
       ]
      },
      {
       "output_type": "stream",
       "stream": "stdout",
       "text": [
        "\n",
        "rs6657048"
       ]
      },
      {
       "output_type": "stream",
       "stream": "stdout",
       "text": [
        "\n",
        "rs2340592"
       ]
      },
      {
       "output_type": "stream",
       "stream": "stdout",
       "text": [
        "\n",
        "rs10907177"
       ]
      },
      {
       "output_type": "stream",
       "stream": "stdout",
       "text": [
        "\n",
        "rs6665000"
       ]
      },
      {
       "output_type": "stream",
       "stream": "stdout",
       "text": [
        "\n",
        "rs3128126"
       ]
      },
      {
       "output_type": "stream",
       "stream": "stdout",
       "text": [
        "\n",
        "rs13303118"
       ]
      },
      {
       "output_type": "stream",
       "stream": "stdout",
       "text": [
        "\n",
        "rs1110052"
       ]
      },
      {
       "output_type": "stream",
       "stream": "stdout",
       "text": [
        "\n",
        "rs147226614"
       ]
      },
      {
       "output_type": "stream",
       "stream": "stdout",
       "text": [
        "\n",
        "rs4970405"
       ]
      },
      {
       "output_type": "stream",
       "stream": "stdout",
       "text": [
        "\n",
        "rs15842"
       ]
      },
      {
       "output_type": "stream",
       "stream": "stdout",
       "text": [
        "\n",
        "rs13303147"
       ]
      },
      {
       "output_type": "stream",
       "stream": "stdout",
       "text": [
        "\n",
        "rs13303010"
       ]
      },
      {
       "output_type": "stream",
       "stream": "stdout",
       "text": [
        "\n",
        "rs74443381"
       ]
      },
      {
       "output_type": "stream",
       "stream": "stdout",
       "text": [
        "\n",
        "rs11240777"
       ]
      },
      {
       "output_type": "stream",
       "stream": "stdout",
       "text": [
        "\n",
        "rs9777703"
       ]
      },
      {
       "output_type": "stream",
       "stream": "stdout",
       "text": [
        "\n",
        "rs2272756"
       ]
      },
      {
       "output_type": "stream",
       "stream": "stdout",
       "text": [
        "\n",
        "rs4970383"
       ]
      },
      {
       "output_type": "stream",
       "stream": "stdout",
       "text": [
        "\n",
        "rs2465136"
       ]
      },
      {
       "output_type": "stream",
       "stream": "stdout",
       "text": [
        "\n",
        "rs11260588"
       ]
      },
      {
       "output_type": "stream",
       "stream": "stdout",
       "text": [
        "\n",
        "rs7537756"
       ]
      },
      {
       "output_type": "stream",
       "stream": "stdout",
       "text": [
        "\n",
        "rs2710875"
       ]
      },
      {
       "output_type": "stream",
       "stream": "stdout",
       "text": [
        "\n",
        "rs3934834"
       ]
      },
      {
       "output_type": "stream",
       "stream": "stdout",
       "text": [
        "\n",
        "{{Rsnum\n",
        "|rsid=3934834\n",
        "|Gene=RNF223\n",
        "|Chromosome=1\n",
        "|position=1070426\n",
        "|Orientation=plus\n",
        "|GMAF=0.1983\n",
        "|Assembly=GRCh38\n",
        "|GenomeBuild=38.1\n",
        "|dbSNPBuild=141\n",
        "|geno1=(C;C)\n",
        "|geno2=(C;T)\n",
        "|geno3=(T;T)\n",
        "}}{{ population diversity\n",
        "| geno1=(C;C)\n",
        "| geno2=(C;T)\n",
        "| geno3=(T;T)\n",
        "| CEU | 77.0 | 21.2 | 1.8\n",
        "| HCB | 78.8 | 18.2 | 2.9\n",
        "| JPT | 73.2 | 26.8 | 0.0\n",
        "| YRI | 28.7 | 54.5 | 16.8\n",
        "| ASW | 47.4 | 47.4 | 5.3\n",
        "| CHB | 78.8 | 18.2 | 2.9\n",
        "| CHD | 82.6 | 15.6 | 1.8\n",
        "| GIH | 66.3 | 29.7 | 4.0\n",
        "| LWK | 39.1 | 46.4 | 14.5\n",
        "| MEX | 84.5 | 15.5 | 0.0\n",
        "| MKK | 49.4 | 40.4 | 10.3\n",
        "| TSI | 66.7 | 28.4 | 4.9\n",
        "| HapMapRevision=28\n",
        "}}{{PMID Auto GWAS\n",
        "|PMID=19851299\n",
        "|Trait=Body mass index\n",
        "|Title=Linkage and Genome-wide Association Analysis of Obesity-related Phenotypes: Association of Weight With the MGAT1 Gene\n",
        "|RiskAllele=G\n",
        "|Pval=6E-7\n",
        "|OR=0.11\n",
        "|ORtxt=[NR] kg increase\n",
        "}}\n",
        "\n",
        "{{PMID Auto\n",
        "|PMID=19176549\n",
        "|Title=Genome-wide association analysis by lasso penalized logistic regression.\n",
        "|OA=1\n",
        "}}\n",
        "\n",
        "{{GET Evidence\n",
        "|impact=pathogenic\n",
        "|qualified_impact=Insufficiently evaluated pathogenic\n",
        "|inheritance=unknown\n",
        "|quality_scores=Array\n",
        "|dbsnp_id=rs3934834\n",
        "|overall_frequency_n=29\n",
        "|overall_frequency_d=128\n",
        "|overall_frequency=0.226562\n",
        "|n_genomes=24\n",
        "|n_genomes_annotated=0\n",
        "|n_haplomes=26\n",
        "|n_articles=0\n",
        "|n_articles_annotated=0\n",
        "|in_gwas=Y\n",
        "|autoscore=1\n",
        "|webscore=N\n",
        "}}\n",
        "\n",
        "{{on chip | 23andMe v1}}\n",
        "{{on chip | 23andMe v2}}\n",
        "{{on chip | 23andMe v3}}\n",
        "{{on chip | 23andMe v4}}\n",
        "{{on chip | HumanOmni1Quad}}\n",
        "{{on chip | Illumina Human 1M}}"
       ]
      },
      {
       "output_type": "stream",
       "stream": "stdout",
       "text": [
        "\n",
        "rs4475691\n",
        "rs12564807"
       ]
      },
      {
       "output_type": "stream",
       "stream": "stdout",
       "text": [
        "\n",
        "{{Rsnum\n",
        "|rsid=12564807\n",
        "|Chromosome=1\n",
        "|Orientation=plus\n",
        "|geno1=(A;A)\n",
        "|geno2=(A;G)\n",
        "|geno3=(G;G)\n",
        "|position=799082\n",
        "|Assembly=GRCh38\n",
        "|GenomeBuild=38.1\n",
        "|dbSNPBuild=141\n",
        "}}In the 126 samples with Rs12564807 present on opensnp.org, all of them were AA.\n",
        "\n",
        "{{on chip | Illumina Human 1M}}"
       ]
      },
      {
       "output_type": "stream",
       "stream": "stdout",
       "text": [
        "\n",
        "rs3131972\n",
        "rs13302982"
       ]
      },
      {
       "output_type": "stream",
       "stream": "stdout",
       "text": [
        "\n",
        "rs9442373"
       ]
      },
      {
       "output_type": "stream",
       "stream": "stdout",
       "text": [
        "\n",
        "rs6696281"
       ]
      },
      {
       "output_type": "stream",
       "stream": "stdout",
       "text": [
        "\n",
        "rs13303106"
       ]
      },
      {
       "output_type": "stream",
       "stream": "stdout",
       "text": [
        "\n",
        "rs6687776"
       ]
      },
      {
       "output_type": "stream",
       "stream": "stdout",
       "text": [
        "\n",
        "rs13303307"
       ]
      },
      {
       "output_type": "stream",
       "stream": "stdout",
       "text": [
        "\n",
        "rs2710888"
       ]
      },
      {
       "output_type": "stream",
       "stream": "stdout",
       "text": [
        "\n",
        "rs3128117"
       ]
      },
      {
       "output_type": "stream",
       "stream": "stdout",
       "text": [
        "\n",
        "rs115093905"
       ]
      },
      {
       "output_type": "stream",
       "stream": "stdout",
       "text": [
        "\n",
        "rs78164078"
       ]
      },
      {
       "output_type": "stream",
       "stream": "stdout",
       "text": [
        "\n",
        "rs139739199"
       ]
      },
      {
       "output_type": "stream",
       "stream": "stdout",
       "text": [
        "\n",
        "{{Rsnum\n",
        "|rsid=139739199\n",
        "|Chromosome=1\n",
        "|Orientation=plus\n",
        "|geno1=(C;C)\n",
        "|geno2=(C;T)\n",
        "|geno3=(T;T)\n",
        "|Gene=HES4\n",
        "|position=999691\n",
        "|Gene_s=HES4\n",
        "|Assembly=GRCh38\n",
        "|GenomeBuild=38.1\n",
        "|dbSNPBuild=141\n",
        "}}In the 125 samples with Rs139739199 present on opensnp.org, all of them were CC."
       ]
      },
      {
       "output_type": "stream",
       "stream": "stdout",
       "text": [
        "\n",
        "rs12726255\n",
        "rs13302945"
       ]
      },
      {
       "output_type": "stream",
       "stream": "stdout",
       "text": [
        "\n",
        "rs148828841"
       ]
      },
      {
       "output_type": "stream",
       "stream": "stdout",
       "text": [
        "\n",
        "['rs142946364', 'rs2341362', 'rs2488991', 'rs55678698', 'rs2341365', 'rs7538305', 'rs9442400', 'rs2298217', 'rs77334480', 'rs12124819', 'rs12731175', 'rs9651273', 'rs67274836', 'rs6657048', 'rs2340592', 'rs10907177', 'rs6665000', 'rs3128126', 'rs13303118', 'rs1110052', 'rs147226614', 'rs4970405', 'rs15842', 'rs13303147', 'rs13303010', 'rs74443381', 'rs11240777', 'rs9777703', 'rs2272756', 'rs4970383', 'rs2465136', 'rs11260588', 'rs7537756', 'rs2710875', 'rs4475691', 'rs3131972', 'rs13302982', 'rs9442373', 'rs6696281', 'rs13303106', 'rs6687776', 'rs13303307', 'rs2710888', 'rs3128117', 'rs115093905', 'rs78164078', 'rs12726255', 'rs13302945', 'rs148828841']"
       ]
      },
      {
       "output_type": "stream",
       "stream": "stdout",
       "text": [
        "\n"
       ]
      }
     ],
     "prompt_number": 36
    },
    {
     "cell_type": "code",
     "collapsed": false,
     "input": [
      "#print snp_page"
     ],
     "language": "python",
     "metadata": {},
     "outputs": []
    },
    {
     "cell_type": "code",
     "collapsed": false,
     "input": [],
     "language": "python",
     "metadata": {},
     "outputs": []
    }
   ],
   "metadata": {}
  }
 ]
}