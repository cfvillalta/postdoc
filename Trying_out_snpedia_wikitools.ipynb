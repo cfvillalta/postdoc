{
 "metadata": {
  "name": "Trying_out_snpedia_wikitools"
 },
 "nbformat": 3,
 "nbformat_minor": 0,
 "worksheets": [
  {
   "cells": [
    {
     "cell_type": "code",
     "collapsed": false,
     "input": [
      "#%run '~/genome.txt'"
     ],
     "language": "python",
     "metadata": {},
     "outputs": [
      {
       "ename": "SyntaxError",
       "evalue": "invalid syntax (genome.txt, line 16)",
       "output_type": "pyerr",
       "traceback": [
        "\u001b[0;36m  File \u001b[0;32m\"/Users/cfvillalta/genome.txt\"\u001b[0;36m, line \u001b[0;32m16\u001b[0m\n\u001b[0;31m    rs12564807\t1\t734462\tAA\u001b[0m\n\u001b[0m              \t^\u001b[0m\n\u001b[0;31mSyntaxError\u001b[0m\u001b[0;31m:\u001b[0m invalid syntax\n"
       ]
      }
     ],
     "prompt_number": 56
    },
    {
     "cell_type": "code",
     "collapsed": false,
     "input": [
      "import sys\n",
      "from wikitools import *"
     ],
     "language": "python",
     "metadata": {},
     "outputs": []
    },
    {
     "cell_type": "code",
     "collapsed": false,
     "input": [
      "#import data from 23andme SNP file.\n",
      "print x\n",
      "snp_in = open('/Users/cfvillalta/genome.txt','r')\n",
      "snp_data = snp_in.readlines()\n",
      "\n",
      "snp_dict = {}\n",
      "\n",
      "for snp in snp_data:\n",
      "    if snp.startswith('rsid'):\n",
      "        header=snp.strip()\n",
      "    elif snp.startswith('rs'):\n",
      "        snp=snp.strip()\n",
      "        snp_s = snp.split('\\t')\n",
      "        snp_dict[snp_s[0]]=snp_s\n",
      "        \n",
      "print snp_dict\n",
      "        \n",
      "        \n",
      "        \n"
     ],
     "language": "python",
     "metadata": {},
     "outputs": [
      {
       "output_type": "stream",
       "stream": "stdout",
       "text": [
        "-f\n",
        "{'r': ['rs3937033', 'MT', '16519', 'T']}"
       ]
      },
      {
       "output_type": "stream",
       "stream": "stdout",
       "text": [
        "\n"
       ]
      }
     ],
     "prompt_number": 64
    },
    {
     "cell_type": "code",
     "collapsed": false,
     "input": [
      "site = wiki.Wiki(\"http://bots.snpedia.com/api.php\")\n",
      "snp = \"rs7412\"\n",
      "#print snp\n",
      "#print site\n",
      "pagehandle = page.Page(site,snp)\n",
      "snp_page = pagehandle.getWikiText()\n"
     ],
     "language": "python",
     "metadata": {},
     "outputs": []
    },
    {
     "cell_type": "code",
     "collapsed": false,
     "input": [],
     "language": "python",
     "metadata": {},
     "outputs": []
    },
    {
     "cell_type": "code",
     "collapsed": false,
     "input": [
      "print snp_page"
     ],
     "language": "python",
     "metadata": {},
     "outputs": []
    },
    {
     "cell_type": "code",
     "collapsed": false,
     "input": [],
     "language": "python",
     "metadata": {},
     "outputs": []
    }
   ],
   "metadata": {}
  }
 ]
}